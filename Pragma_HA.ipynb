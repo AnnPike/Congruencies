{
 "cells": [
  {
   "cell_type": "code",
   "execution_count": 1,
   "id": "c317d5b6-f769-41f7-847c-b05b1a228c3f",
   "metadata": {},
   "outputs": [],
   "source": [
    "import numpy as np\n",
    "from numpy.polynomial import polynomial as pl"
   ]
  },
  {
   "cell_type": "markdown",
   "id": "c8ebf24f-c1bb-4e10-920d-b6e36470500e",
   "metadata": {},
   "source": [
    "# 1"
   ]
  },
  {
   "cell_type": "markdown",
   "id": "bb7c19ec-a45e-4d2e-b8c7-b32fad7a081b",
   "metadata": {},
   "source": [
    "### 1.1 The solutions of a polynomial congruence with prime modulus can always be found by testing, that is, by substituting each of the p numbers into the polynomial congruence to see if it does indeed satisfy the equation."
   ]
  },
  {
   "cell_type": "code",
   "execution_count": 2,
   "id": "d76a85fb-ed63-4238-b5d7-75be522648e8",
   "metadata": {},
   "outputs": [],
   "source": [
    "p1 = np.poly1d([2, 0, 0, 1, 1])"
   ]
  },
  {
   "cell_type": "code",
   "execution_count": 3,
   "id": "cdabbf6d-57e6-4a43-bf99-2eefedd424dd",
   "metadata": {},
   "outputs": [],
   "source": [
    "def solution_prime(polynom, mod_prime):\n",
    "    #trying all the residue classes\n",
    "    sol = []\n",
    "    for i in range(mod_prime):\n",
    "        if pl.polyval(i, polynom)%mod_prime==0:           \n",
    "            sol.append(i)\n",
    "    # print([f'{i}(mod{mod_prime})' for i in sol])\n",
    "    return sol"
   ]
  },
  {
   "cell_type": "code",
   "execution_count": 4,
   "id": "fd001809-49a4-4948-b829-dfec2947b41c",
   "metadata": {},
   "outputs": [
    {
     "data": {
      "text/plain": [
       "[4]"
      ]
     },
     "execution_count": 4,
     "metadata": {},
     "output_type": "execute_result"
    }
   ],
   "source": [
    "solution_prime(p1, 7)"
   ]
  },
  {
   "cell_type": "markdown",
   "id": "ba48b220-0b44-411d-88b4-9ead04a63ade",
   "metadata": {},
   "source": [
    "### the answer is 4 (mod 7)"
   ]
  },
  {
   "cell_type": "markdown",
   "id": "00c66a4a-a77a-4332-b8e4-3640bf1a7f38",
   "metadata": {},
   "source": [
    "## 1.2 Prime power modulus"
   ]
  },
  {
   "cell_type": "markdown",
   "id": "a192c886-176c-4c6b-949b-209144edf0c8",
   "metadata": {},
   "source": [
    "![SNOWFALL](mod.png) "
   ]
  },
  {
   "cell_type": "markdown",
   "id": "3592a78d-2494-406d-b72e-de7e290c7378",
   "metadata": {},
   "source": [
    "### Let's compute prime decompositon of the modulo"
   ]
  },
  {
   "cell_type": "code",
   "execution_count": 5,
   "id": "df5f79e1-4b78-44ad-ae75-796bfba0363c",
   "metadata": {},
   "outputs": [],
   "source": [
    "def primeFactors(n):\n",
    "    '''A function to get all prime factors of a given number n'''\n",
    "    prime_list = []\n",
    "    # Print the number of two's that divide n\n",
    "    while n % 2 == 0:\n",
    "        prime_list.append(2)\n",
    "        n = n / 2\n",
    "         \n",
    "    # n must be odd at this point\n",
    "    # so a skip of 2 ( i = i + 2) can be used\n",
    "    for i in range(3,int(n**0.5)+1,2):\n",
    "         \n",
    "        # while i divides n , print i and divide n\n",
    "        while n % i== 0:\n",
    "            prime_list.append(i)\n",
    "            n = n / i\n",
    "             \n",
    "    # Condition if n is a prime\n",
    "    # number greater than 2\n",
    "    if n > 2:\n",
    "        prime_list.append(n)\n",
    "    return {i:prime_list.count(i) for i in prime_list}"
   ]
  },
  {
   "cell_type": "code",
   "execution_count": 6,
   "id": "b2481ba9-0801-4a7b-a36e-51bf393b4fef",
   "metadata": {},
   "outputs": [],
   "source": [
    "p2 = np.poly1d([1, 1, 0, 0, 0, 0, 0, 1])\n",
    "mod = 343 "
   ]
  },
  {
   "cell_type": "code",
   "execution_count": 7,
   "id": "4472896a-9abc-4b68-8de3-cc45b50c608b",
   "metadata": {},
   "outputs": [
    {
     "name": "stdout",
     "output_type": "stream",
     "text": [
      "{7: 3}\n",
      "The modulo is power 3 of 7\n"
     ]
    }
   ],
   "source": [
    "dict_of_factors = primeFactors(mod)\n",
    "print(dict_of_factors)\n",
    "print(f'The modulo is power 3 of 7')"
   ]
  },
  {
   "cell_type": "code",
   "execution_count": 8,
   "id": "bd4ee81a-dbef-4660-9871-0ba7fd92071d",
   "metadata": {},
   "outputs": [],
   "source": [
    "def solution_prime_deg(polynom, prime, deg):\n",
    "    '''polynom - np.poly1d polinom\n",
    "    mod module of the congruency\n",
    "    the function works only for mode - degree of a prime\n",
    "    '''\n",
    "    ### Step 1 - Solve for prime\n",
    "    roots = solution_prime(polynom, prime)\n",
    "    ### Step 2 solve for each degree of the prime as described above\n",
    "    final_roots = f_roots(roots, 1, deg, polynom, prime)\n",
    "    return final_roots"
   ]
  },
  {
   "cell_type": "code",
   "execution_count": 9,
   "id": "38d4a0a6-7d17-49d1-848b-27297ec17e4e",
   "metadata": {},
   "outputs": [],
   "source": [
    "def f_roots(list_of_roots, i_deg, deg, polynom, prime):\n",
    "    if i_deg==deg:\n",
    "        return list_of_roots\n",
    "    for root in list_of_roots:\n",
    "        new_roots = find_roots(root, polynom, prime, i_deg)\n",
    "        return f_roots(new_roots, i_deg+1, deg, polynom, prime)"
   ]
  },
  {
   "cell_type": "code",
   "execution_count": 10,
   "id": "8438dd10-a235-4888-ad26-96c6e63eb8e2",
   "metadata": {},
   "outputs": [],
   "source": [
    "def find_roots(root, polynom, prime, i_deg):\n",
    "    '''function to find roots according to the formula above'''\n",
    "    a0 = (pl.polyval(root, polynom)/(prime**i_deg))%prime\n",
    "    a1 = pl.polyval(root, pl.polyder(polynom))%prime\n",
    "    if a0==0 and a1==0:\n",
    "        print(f'{prime} solutions, case not coded yet')\n",
    "        return []\n",
    "    roots_sub_ = solution_prime(np.poly1d([a0, a1]), prime)\n",
    "    roots_sub = [root+r*prime**i_deg for r in roots_sub_]\n",
    "    return roots_sub"
   ]
  },
  {
   "cell_type": "code",
   "execution_count": 11,
   "id": "4735c815-e5a7-4edf-9772-35fec0c74ee1",
   "metadata": {},
   "outputs": [
    {
     "data": {
      "text/plain": [
       "[115]"
      ]
     },
     "execution_count": 11,
     "metadata": {},
     "output_type": "execute_result"
    }
   ],
   "source": [
    "solution_prime_deg(p2, 7, 3)"
   ]
  },
  {
   "cell_type": "code",
   "execution_count": 12,
   "id": "4f5fa347-76c8-4c8a-9d9c-1c73c5cebc7d",
   "metadata": {},
   "outputs": [
    {
     "data": {
      "text/plain": [
       "True"
      ]
     },
     "execution_count": 12,
     "metadata": {},
     "output_type": "execute_result"
    }
   ],
   "source": [
    "#check\n",
    "pl.polyval(115, p2)%343==0"
   ]
  },
  {
   "cell_type": "markdown",
   "id": "c1c5eb5c-ce14-4c18-a682-e4e27f3847ef",
   "metadata": {},
   "source": [
    "### The answer is 115 (mod 343)"
   ]
  },
  {
   "cell_type": "markdown",
   "id": "f34568b2-15fe-4158-9820-f3cf378ea260",
   "metadata": {},
   "source": [
    "# 2. By chinese Remainder Theorem, if mods of a system are pairwise coprime, the solution is unique and is obtained by a formula"
   ]
  },
  {
   "cell_type": "markdown",
   "id": "26088295-da58-4afb-a4ac-588cf585069a",
   "metadata": {},
   "source": [
    "![SNOWFALL](crt.png) "
   ]
  },
  {
   "cell_type": "code",
   "execution_count": 13,
   "id": "bed958e3-dfe3-4ca6-af99-754292d7d151",
   "metadata": {},
   "outputs": [],
   "source": [
    "def find_inverse_mod(elem, mod):\n",
    "    '''if elem and mod are coprimes the inverse is unique and can be found by testing'''\n",
    "    if gcd(elem, mod)==1:\n",
    "        for i in range(1, mod):\n",
    "            if elem*i%mod==1:\n",
    "                return i"
   ]
  },
  {
   "cell_type": "markdown",
   "id": "a668276e-628a-411b-b9a2-855258fe0dc3",
   "metadata": {},
   "source": [
    "### The second equation can be replaced with x=1(mod2), then the modes are pairwise coprime. Let's verify it in code"
   ]
  },
  {
   "cell_type": "code",
   "execution_count": 14,
   "id": "fecb062c-48bb-4429-91a1-51198a94fd51",
   "metadata": {},
   "outputs": [],
   "source": [
    "def gcd(a, b): \n",
    "    '''gcd of numbers a and b'''  \n",
    "    if (b == 0): \n",
    "        return a \n",
    "    else: \n",
    "        return gcd(b, a % b) \n",
    "  \n",
    "\n",
    "def allCoprime(A):\n",
    "    '''Function to check if all the pairs of the array are coprime with each other or not'''\n",
    "    n = len(A)\n",
    "    all_coprime = True\n",
    "      \n",
    "    for i in range(n):\n",
    "        for j in range(i + 1, n):\n",
    "              \n",
    "            # Check if GCD of the pair is not equal to 1\n",
    "            if gcd(A[i], A[j]) != 1:\n",
    "   \n",
    "                # All pairs are non-coprime\n",
    "                all_coprime = False;\n",
    "                break\n",
    "      \n",
    "    return all_coprime"
   ]
  },
  {
   "cell_type": "code",
   "execution_count": 15,
   "id": "f834cc7b-3137-4783-b726-4280c1105c91",
   "metadata": {},
   "outputs": [],
   "source": [
    "def get_canon(elem_list, mod_list, rhs_list):\n",
    "    m_list = [find_inverse_mod(elem, mod)*rhs%mod for elem, mod, rhs in zip(elem_list, mod_list, rhs_list)]\n",
    "    return np.array(m_list)"
   ]
  },
  {
   "cell_type": "code",
   "execution_count": 16,
   "id": "d067748a-af59-42eb-90c4-94680ef6d977",
   "metadata": {},
   "outputs": [],
   "source": [
    "elem_arr = np.array([2, 1, 4, 5])\n",
    "mod_arr = np.array([5, 2, 7, 11])\n",
    "rhs_array = np.array([1, 1, 1, 9]) #right hand side"
   ]
  },
  {
   "cell_type": "code",
   "execution_count": 17,
   "id": "b3597a03-71f6-490f-8822-30e4c44af8fa",
   "metadata": {},
   "outputs": [],
   "source": [
    "def solve_system_lin_cong(elem_arr, mod_arr, rhs_array):\n",
    "    ''' provides a solution to the system of linear congruencies, only the case of coprimes is considered'''\n",
    "    # check if the modes are pairwise coprime, so we can use Chinese reminder theorem\n",
    "    if allCoprime(mod_arr):\n",
    "        # get canonical form of the system, meanig that each eq is x=rhs(mod_)\n",
    "        rhs_canon_arr = get_canon(elem_arr, mod_arr, rhs_array)\n",
    "        # Use the formula for Chinese reminder theorem\n",
    "        M = mod_arr.prod()\n",
    "        M_arr = M/mod_arr     \n",
    "        b_arr = get_canon(M_arr, mod_arr, np.ones(4, dtype='int'))      \n",
    "        X = (M_arr*b_arr*rhs_canon_arr).sum()\n",
    "        return X"
   ]
  },
  {
   "cell_type": "code",
   "execution_count": 18,
   "id": "9db5c9ea-47f7-4863-8c95-4385b361ff03",
   "metadata": {},
   "outputs": [
    {
     "name": "stdout",
     "output_type": "stream",
     "text": [
      "3733.0\n"
     ]
    }
   ],
   "source": [
    "X = solve_system_lin_cong(elem_arr, mod_arr, rhs_array)\n",
    "print(X)"
   ]
  },
  {
   "cell_type": "code",
   "execution_count": 19,
   "id": "9cb790a2-86ff-4fbd-9da8-6634a84ecc8f",
   "metadata": {},
   "outputs": [
    {
     "data": {
      "text/plain": [
       "array([1., 1., 1., 9.])"
      ]
     },
     "execution_count": 19,
     "metadata": {},
     "output_type": "execute_result"
    }
   ],
   "source": [
    "rhs_obt = X*elem_arr%mod_arr\n",
    "rhs_obt"
   ]
  },
  {
   "cell_type": "code",
   "execution_count": 20,
   "id": "05772b90-7848-413f-b370-4163bd107699",
   "metadata": {},
   "outputs": [
    {
     "data": {
      "text/plain": [
       "True"
      ]
     },
     "execution_count": 20,
     "metadata": {},
     "output_type": "execute_result"
    }
   ],
   "source": [
    "(rhs_obt == rhs_array).all()"
   ]
  },
  {
   "cell_type": "markdown",
   "id": "5637e546-48f5-4abb-bf2a-eecab15659b0",
   "metadata": {},
   "source": [
    "## The answer is 3733, the solution is correct"
   ]
  },
  {
   "cell_type": "markdown",
   "id": "687f07d5-735d-445a-884f-58f13817a2d9",
   "metadata": {},
   "source": [
    "reference:\n",
    "http://dspace.univ-msila.dz:8080/xmlui/bitstream/handle/123456789/16012/Amroune%20Abir.pdf?sequence=1&isAllowed=y"
   ]
  },
  {
   "cell_type": "markdown",
   "id": "1876eb2d-7fda-45ed-b119-73b118b26150",
   "metadata": {},
   "source": [
    "# 3. ?"
   ]
  },
  {
   "cell_type": "markdown",
   "id": "18e9b4c3-192a-4767-9fa5-b1aa2b9e7ea3",
   "metadata": {},
   "source": [
    "# 4"
   ]
  },
  {
   "cell_type": "code",
   "execution_count": 21,
   "id": "fdf7e6b7-b5a2-4a90-8b07-604fc203c9b7",
   "metadata": {},
   "outputs": [],
   "source": [
    "def pad_polys(*polynomials):\n",
    "    '''function to pad arrays with 0 in case they are of different degree'''\n",
    "    L = max([len(i) for i in polynomials])\n",
    "    args_out = [np.concatenate([p, np.zeros(L-len(p))]) for p in polynomials]\n",
    "    return args_out\n",
    "\n",
    "def add_poly(*polynomials):\n",
    "    '''add polynomials'''\n",
    "    poly_to_add = pad_polys(*polynomials)    \n",
    "    args_out = np.concatenate([p.reshape(1,-1) for p in poly_to_add], 0)\n",
    "    return args_out.sum(0)\n",
    "\n",
    "\n",
    "def x_mult(p, deg):\n",
    "    '''multiply polinomialby x'''\n",
    "    return np.concatenate([np.zeros(deg), p])"
   ]
  },
  {
   "cell_type": "code",
   "execution_count": 22,
   "id": "91c4762c-1016-4b52-bc48-3468076af217",
   "metadata": {},
   "outputs": [],
   "source": [
    "def poly_prod_recursion(poly1, poly2):\n",
    "    '''poly1, poly2 - np. arrays representing coeff of polynomials. \n",
    "    The first polynomial should be shorter\n",
    "    '''\n",
    "    ## base case\n",
    "    deg1, deg2 = len(poly1), len(poly2)\n",
    "    if deg1 == 1:\n",
    "        return poly1[0]*poly2\n",
    "    # Using the given formula    \n",
    "    split_size1, split_size2 = deg1//2, deg2//2\n",
    "    split10, split11 = poly1[:split_size1], x_mult(poly1[split_size1:], split_size1-1)\n",
    "    split20, split21 = poly2[:split_size2], x_mult(poly2[split_size2:], split_size2-1)\n",
    "    c0 = poly_prod_recursion(split10, split20)\n",
    "    c2 = poly_prod_recursion(split11, split21)\n",
    "    s1 = add_poly(split11,-split10)\n",
    "    s2 = add_poly(split21, -split20)\n",
    "    c1 = add_poly(c0, c2, -poly_prod_recursion(s1, s2))\n",
    "    return add_poly(x_mult(c2, 2), x_mult(c1, 1), c0)"
   ]
  },
  {
   "cell_type": "code",
   "execution_count": 23,
   "id": "617978b8-ba0e-4be1-8950-69c49c724897",
   "metadata": {},
   "outputs": [],
   "source": [
    "def poly_prod(poly1, poly2):\n",
    "    '''Returns np.array representing multiplication of two polynomials\n",
    "    '''\n",
    "    # chose shorter polynom to be first in the function call is of the same or smaller degree than poly2   \n",
    "    L = len(poly1)\n",
    "    if len(poly2)<L:\n",
    "        return poly_prod_recursion(poly2, poly1)\n",
    "    else:\n",
    "        return poly_prod_recursion(poly1, poly2)"
   ]
  },
  {
   "cell_type": "markdown",
   "id": "2a13432c-baa2-4fc3-a416-e7f153987b32",
   "metadata": {},
   "source": [
    "### Compare to the numpy implementation to make sure it works correctly"
   ]
  },
  {
   "cell_type": "code",
   "execution_count": 24,
   "id": "cd98add9-60ee-43ab-8d04-9b5c8116bdc0",
   "metadata": {},
   "outputs": [
    {
     "data": {
      "text/plain": [
       "True"
      ]
     },
     "execution_count": 24,
     "metadata": {},
     "output_type": "execute_result"
    }
   ],
   "source": [
    "(poly_prod(p1.c, p2.c) == pl.polymul(p1, p2)).all()"
   ]
  },
  {
   "cell_type": "code",
   "execution_count": 25,
   "id": "257e699d-42e6-462e-84f0-c4e2a1534320",
   "metadata": {},
   "outputs": [
    {
     "data": {
      "text/plain": [
       "True"
      ]
     },
     "execution_count": 25,
     "metadata": {},
     "output_type": "execute_result"
    }
   ],
   "source": [
    "(poly_prod(p1.c, p1.c) == pl.polymul(p1, p1)).all()"
   ]
  },
  {
   "cell_type": "code",
   "execution_count": 26,
   "id": "ff7ab555-6185-44c4-a0d8-57d53273c1bc",
   "metadata": {},
   "outputs": [
    {
     "data": {
      "text/plain": [
       "True"
      ]
     },
     "execution_count": 26,
     "metadata": {},
     "output_type": "execute_result"
    }
   ],
   "source": [
    "(poly_prod(p2.c, p2.c) == pl.polymul(p2, p2)).all()"
   ]
  }
 ],
 "metadata": {
  "kernelspec": {
   "display_name": "Python 3 (ipykernel)",
   "language": "python",
   "name": "python3"
  },
  "language_info": {
   "codemirror_mode": {
    "name": "ipython",
    "version": 3
   },
   "file_extension": ".py",
   "mimetype": "text/x-python",
   "name": "python",
   "nbconvert_exporter": "python",
   "pygments_lexer": "ipython3",
   "version": "3.10.12"
  }
 },
 "nbformat": 4,
 "nbformat_minor": 5
}
