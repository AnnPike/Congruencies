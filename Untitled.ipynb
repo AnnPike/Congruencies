{
 "cells": [
  {
   "cell_type": "code",
   "execution_count": 24,
   "id": "0d798b5b-31d6-4f2d-9b0f-a3fc65849d49",
   "metadata": {},
   "outputs": [],
   "source": [
    "def perc(pM, pMtag, M, N):\n",
    "    return (M-N)*(pMtag-pM)/(pM*M+(1-pM)*N)"
   ]
  },
  {
   "cell_type": "code",
   "execution_count": 25,
   "id": "66631efa-a17c-4536-8232-e304cf257459",
   "metadata": {},
   "outputs": [],
   "source": [
    "def real_perc(pM, pMtag, M, N):\n",
    "    prev_mass = pM*M+(1-pM)*N\n",
    "    new_mass = pMtag*M+(1-pMtag)*N\n",
    "    return new_mass/prev_mass-1"
   ]
  },
  {
   "cell_type": "code",
   "execution_count": 26,
   "id": "00a51c5c-89f7-46dd-9e90-657ee74133fa",
   "metadata": {},
   "outputs": [
    {
     "name": "stdout",
     "output_type": "stream",
     "text": [
      "0.009900990099009901\n",
      "0.00990099009900991\n"
     ]
    }
   ],
   "source": [
    "pM, pMtag, M, N = 0.01, 0.02, 100, 50\n",
    "print(perc(pM, pMtag, M, N))\n",
    "print(real_perc(pM, pMtag, M, N))"
   ]
  },
  {
   "cell_type": "code",
   "execution_count": 27,
   "id": "1508a8f3-46bf-45bd-8fd0-7f4b5911c6fe",
   "metadata": {},
   "outputs": [],
   "source": [
    "def diff(pM, pMtag, M, N):\n",
    "    return (pMtag-pM)*(M-N)"
   ]
  },
  {
   "cell_type": "code",
   "execution_count": 28,
   "id": "747be8ef-80bc-4ec8-8f1c-12ea0afda784",
   "metadata": {},
   "outputs": [],
   "source": [
    "def real_diff(pM, pMtag, M, N):\n",
    "    prev_mass = pM*M+(1-pM)*N\n",
    "    new_mass = pMtag*M+(1-pMtag)*N\n",
    "    return new_mass-prev_mass"
   ]
  },
  {
   "cell_type": "code",
   "execution_count": 29,
   "id": "f42f03b1-841d-4afc-8485-39370e4b0ee1",
   "metadata": {},
   "outputs": [
    {
     "name": "stdout",
     "output_type": "stream",
     "text": [
      "0.5\n",
      "0.5\n"
     ]
    }
   ],
   "source": [
    "print(diff(pM, pMtag, M, N))\n",
    "print(real_diff(pM, pMtag, M, N))"
   ]
  },
  {
   "cell_type": "code",
   "execution_count": null,
   "id": "0057d898-66da-4311-8226-ba65ae3b4015",
   "metadata": {},
   "outputs": [],
   "source": []
  }
 ],
 "metadata": {
  "kernelspec": {
   "display_name": "Python 3 (ipykernel)",
   "language": "python",
   "name": "python3"
  },
  "language_info": {
   "codemirror_mode": {
    "name": "ipython",
    "version": 3
   },
   "file_extension": ".py",
   "mimetype": "text/x-python",
   "name": "python",
   "nbconvert_exporter": "python",
   "pygments_lexer": "ipython3",
   "version": "3.10.12"
  }
 },
 "nbformat": 4,
 "nbformat_minor": 5
}
